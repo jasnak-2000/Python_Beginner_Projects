{
 "cells": [
  {
   "cell_type": "code",
   "execution_count": 3,
   "id": "e1f6de86-bd9e-43c5-bab9-f520c7b02081",
   "metadata": {},
   "outputs": [],
   "source": [
    "import tkinter as tk\n",
    "\n",
    "def on_button_click(value):\n",
    "    current_text = entry.get()\n",
    "    entry.delete(0, tk.END)\n",
    "    entry.insert(0, current_text + value)\n",
    "\n",
    "def clear():\n",
    "    entry.delete(0, tk.END)\n",
    "\n",
    "def calculate():\n",
    "    try:\n",
    "        result = eval(entry.get())\n",
    "        entry.delete(0, tk.END)\n",
    "        entry.insert(0, str(result))\n",
    "    except Exception as e:\n",
    "        entry.delete(0, tk.END)\n",
    "        entry.insert(0, \"Error\")\n",
    "\n",
    "                                    # Main window\n",
    "root = tk.Tk()\n",
    "root.title(\"Simple Calculator\")\n",
    "\n",
    "# Entry widget for input\n",
    "entry = tk.Entry(root, width=20, borderwidth=5, font=(\"Arial\", 18))\n",
    "entry.grid(row=0, column=0, columnspan=4)\n",
    "\n",
    "                                                      # Button labels\n",
    "buttons = [\n",
    "    ('7', 1, 0), ('8', 1, 1), ('9', 1, 2), ('/', 1, 3),\n",
    "    ('4', 2, 0), ('5', 2, 1), ('6', 2, 2), ('*', 2, 3),\n",
    "    ('1', 3, 0), ('2', 3, 1), ('3', 3, 2), ('-', 3, 3),\n",
    "    ('0', 4, 0), ('.', 4, 1), ('+', 4, 2), ('=', 4, 3),\n",
    "    ('C', 5, 0)\n",
    "]\n",
    "\n",
    "                                                      # Create buttons\n",
    "for (text, row, col) in buttons:\n",
    "    if text == \"=\":\n",
    "        btn = tk.Button(root, text=text, width=10, height=2, command=calculate)\n",
    "    elif text == \"C\":\n",
    "        btn = tk.Button(root, text=text, width=10, height=2, command=clear)\n",
    "    else:\n",
    "        btn = tk.Button(root, text=text, width=10, height=2, command=lambda t=text: on_button_click(t))\n",
    "\n",
    "    btn.grid(row=row, column=col, padx=5, pady=5)\n",
    "\n",
    "root.mainloop()"
   ]
  }
 ],
 "metadata": {
  "kernelspec": {
   "display_name": "Python 3 (ipykernel)",
   "language": "python",
   "name": "python3"
  },
  "language_info": {
   "codemirror_mode": {
    "name": "ipython",
    "version": 3
   },
   "file_extension": ".py",
   "mimetype": "text/x-python",
   "name": "python",
   "nbconvert_exporter": "python",
   "pygments_lexer": "ipython3",
   "version": "3.12.4"
  }
 },
 "nbformat": 4,
 "nbformat_minor": 5
}
