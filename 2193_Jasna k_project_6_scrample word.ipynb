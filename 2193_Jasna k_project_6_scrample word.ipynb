{
 "cells": [
  {
   "cell_type": "code",
   "execution_count": 1,
   "id": "10c275b3-688e-4ba3-aa35-db6c975a6132",
   "metadata": {},
   "outputs": [
    {
     "name": "stdout",
     "output_type": "stream",
     "text": [
      "Welcome to the Scrample Word Game!\n",
      "Unscrample this word :nnaaba\n"
     ]
    },
    {
     "name": "stdin",
     "output_type": "stream",
     "text": [
      "Now guess the word  banana\n"
     ]
    },
    {
     "name": "stdout",
     "output_type": "stream",
     "text": [
      "Your guess is right, you Won!\n",
      "Your current score : 1\n"
     ]
    },
    {
     "name": "stdin",
     "output_type": "stream",
     "text": [
      "Do you want to contibnue ? (yes/no) : yes\n"
     ]
    },
    {
     "name": "stdout",
     "output_type": "stream",
     "text": [
      "Welcome to the Scrample Word Game!\n",
      "Unscrample this word :ehrtaf\n"
     ]
    },
    {
     "name": "stdin",
     "output_type": "stream",
     "text": [
      "Now guess the word  father\n"
     ]
    },
    {
     "name": "stdout",
     "output_type": "stream",
     "text": [
      "Your guess is right, you Won!\n",
      "Your current score : 2\n"
     ]
    },
    {
     "name": "stdin",
     "output_type": "stream",
     "text": [
      "Do you want to contibnue ? (yes/no) : no\n"
     ]
    },
    {
     "name": "stdout",
     "output_type": "stream",
     "text": [
      "You exit the game! your final score :2\n"
     ]
    }
   ],
   "source": [
    "import random    # we imported the library\n",
    "\n",
    "# set the scrample word function\n",
    "\n",
    "def scrambledWord (word):          \n",
    "    wordList = list(word)\n",
    "    random.shuffle(wordList)\n",
    "    return ''.join(wordList)\n",
    "\n",
    "def playGame(score):\n",
    "    print (\"Welcome to the Scrample Word Game!\")\n",
    "\n",
    "    word = [\"apple\",\"orenge\",\"monkey\",\"snake\",\"father\",\"mother\",\"banana\"] # this is the word list\n",
    "    \n",
    "    original_word =  random.choice (word)\n",
    "    scrampled = scrambledWord (original_word)\n",
    "    print(f'Unscrample this word :{scrampled}')\n",
    "    user_guess = input (\"Now guess the word \").lower()\n",
    "\n",
    "    if user_guess == original_word:\n",
    "        print(\"Your guess is right, you Won!\")\n",
    "        score =score+1\n",
    "    else:\n",
    "        print(\"You are wrong, You failed!\")\n",
    "    print(f\"Your current score : {score}\")\n",
    "    return score\n",
    "\n",
    "def playContinue():\n",
    "    score =0\n",
    "    while True:\n",
    "        score = playGame(score)\n",
    "        play_again = input(\"Do you want to contibnue ? (yes/no) :\").lower()\n",
    "        if play_again != \"yes\":\n",
    "            print (f\"You exit the game! your final score :{score}\")\n",
    "            break\n",
    "\n",
    "   \n",
    "\n",
    "playContinue()\n",
    "              \n",
    "              \n",
    "    \n",
    "    \n",
    "    "
   ]
  }
 ],
 "metadata": {
  "kernelspec": {
   "display_name": "Python 3 (ipykernel)",
   "language": "python",
   "name": "python3"
  },
  "language_info": {
   "codemirror_mode": {
    "name": "ipython",
    "version": 3
   },
   "file_extension": ".py",
   "mimetype": "text/x-python",
   "name": "python",
   "nbconvert_exporter": "python",
   "pygments_lexer": "ipython3",
   "version": "3.12.4"
  }
 },
 "nbformat": 4,
 "nbformat_minor": 5
}
