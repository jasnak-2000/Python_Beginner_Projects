{
 "cells": [
  {
   "cell_type": "code",
   "execution_count": 23,
   "id": "6b843f3e-c70d-4aae-8e2b-d163106bf585",
   "metadata": {},
   "outputs": [],
   "source": [
    "#creating class of representing the player\n",
    "\n",
    "class player():\n",
    "    def __init__(self, name):\n",
    "        self.name = name\n",
    "        self.score =0   # here initialized score with 0\n",
    "        self.is_out = False  # here initialized is_out with false\n",
    "\n",
    "    def play(self):\n",
    "        while True:\n",
    "            try:\n",
    "                num = int(input(f\"{self.name}, Enter the number from 1-6 : \")) # here we recieving the number from the player from 1-6\n",
    "                if 1<=num<=6:\n",
    "                    return num\n",
    "                else:\n",
    "                    print(\"Invalid input enter a number betwean 1 to 6!\")\n",
    "            except ValueError:\n",
    "                print(\"Error\")\n",
    "\n",
    "class Handcricket():\n",
    "    def __init__(self, player1_name, player2_name):   # created two players\n",
    "        self.player1 = player (player1_name)\n",
    "        self.player2 = player (player2_name)\n",
    "        self.target = None                     # here this target is set to store the score of player2\n",
    "        \n",
    "    def play_innings(self, batting , bowling):\n",
    "        print(f\"{batting.name} is batting!\")\n",
    "        while not batting.is_out:\n",
    "            bat_num = batting.play()  # here batman chooses a number\n",
    "            bowl_num = bowling.play() # bowl man chooses a number\n",
    "            print(f\"{bowling.name} bowled {bowl_num}\")\n",
    "\n",
    "\n",
    "            if bat_num == bowl_num:  # if here the batting and bowling comes as equal the bats man will out, he loose his chance \n",
    "                print(f\"{batting.name} is Out!\")\n",
    "                batting.is_out = True\n",
    "            else:\n",
    "                batting.score += bat_num           # if both are not equal the num will be added to batsman's score\n",
    "                print(f\"{batting.name}'s score: {batting.score}\")\n",
    "                \n",
    "        return batting.score\n",
    "  # creating game round controlling function \n",
    "    \n",
    "    def start_game(self):\n",
    "        print('First innings!')\n",
    "        self.target = self.play_innings (self.player1, self.player2)+ 1\n",
    "        print(f\"Target for {self.player2.name}: { self.target}\")\n",
    "        print('Second Innings')\n",
    "        comp_score = self.play_innings (self.player2, self.player1)\n",
    "        self.declare_winner(comp_score)    # here check the winner of the game\n",
    "        \n",
    "    def declare_winner(self, comp_score):\n",
    "        print(\"Game over!\")\n",
    "        print(f\"{self.player1.name}'s score: {self.player1.score}\")\n",
    "        print(f\"{self.player2.name}'s score: {comp_score}\")\n",
    "\n",
    "        if self.player1.score > comp_score:\n",
    "            print(f\"{self.player1.name} wins!\")\n",
    "        elif self.player1.score < comp_score:\n",
    "            print(f\"{self.player2.name} wins!\")\n",
    "        else:\n",
    "            print(\"It is a tie\")\n",
    "        \n",
    "        "
   ]
  },
  {
   "cell_type": "code",
   "execution_count": 32,
   "id": "d7c1e971-387a-4282-9e5e-aa8b916ae443",
   "metadata": {},
   "outputs": [
    {
     "name": "stdin",
     "output_type": "stream",
     "text": [
      "Enter player1 name Alice\n"
     ]
    }
   ],
   "source": [
    "name1 = input('Enter player1 name')"
   ]
  },
  {
   "cell_type": "code",
   "execution_count": 34,
   "id": "0878b71a-1089-44b5-8eeb-9c65a4e2bdfa",
   "metadata": {},
   "outputs": [
    {
     "name": "stdin",
     "output_type": "stream",
     "text": [
      "Enter player2 name Bob\n"
     ]
    }
   ],
   "source": [
    "name2 = input('Enter player2 name')"
   ]
  },
  {
   "cell_type": "code",
   "execution_count": 38,
   "id": "f4847cc8-a3f3-4564-82bd-441b5cf9aac3",
   "metadata": {},
   "outputs": [],
   "source": [
    "game = Handcricket(name1, name2)"
   ]
  },
  {
   "cell_type": "code",
   "execution_count": 40,
   "id": "7b784435-bc7f-4ea8-af06-72af45ba9c9a",
   "metadata": {},
   "outputs": [
    {
     "name": "stdout",
     "output_type": "stream",
     "text": [
      "First innings!\n",
      "Alice is batting!\n"
     ]
    },
    {
     "name": "stdin",
     "output_type": "stream",
     "text": [
      "Alice, Enter the number from 1-6 :  4\n",
      "Bob, Enter the number from 1-6 :  5\n"
     ]
    },
    {
     "name": "stdout",
     "output_type": "stream",
     "text": [
      "Bob bowled 5\n",
      "Alice's score: 4\n"
     ]
    },
    {
     "name": "stdin",
     "output_type": "stream",
     "text": [
      "Alice, Enter the number from 1-6 :  3\n",
      "Bob, Enter the number from 1-6 :  6\n"
     ]
    },
    {
     "name": "stdout",
     "output_type": "stream",
     "text": [
      "Bob bowled 6\n",
      "Alice's score: 7\n"
     ]
    },
    {
     "name": "stdin",
     "output_type": "stream",
     "text": [
      "Alice, Enter the number from 1-6 :  4\n",
      "Bob, Enter the number from 1-6 :  4\n"
     ]
    },
    {
     "name": "stdout",
     "output_type": "stream",
     "text": [
      "Bob bowled 4\n",
      "Alice is Out!\n",
      "Target for Bob: 8\n",
      "Second Innings\n",
      "Bob is batting!\n"
     ]
    },
    {
     "name": "stdin",
     "output_type": "stream",
     "text": [
      "Bob, Enter the number from 1-6 :  6\n",
      "Alice, Enter the number from 1-6 :  3\n"
     ]
    },
    {
     "name": "stdout",
     "output_type": "stream",
     "text": [
      "Alice bowled 3\n",
      "Bob's score: 6\n"
     ]
    },
    {
     "name": "stdin",
     "output_type": "stream",
     "text": [
      "Bob, Enter the number from 1-6 :  2\n",
      "Alice, Enter the number from 1-6 :  2\n"
     ]
    },
    {
     "name": "stdout",
     "output_type": "stream",
     "text": [
      "Alice bowled 2\n",
      "Bob is Out!\n",
      "Game over!\n",
      "Alice's score: 7\n",
      "Bob's score: 6\n",
      "Alice wins!\n"
     ]
    }
   ],
   "source": [
    "game.start_game()"
   ]
  },
  {
   "cell_type": "code",
   "execution_count": null,
   "id": "c884614d-5178-4b80-82df-5f0ab0f58e26",
   "metadata": {},
   "outputs": [],
   "source": [
    " "
   ]
  }
 ],
 "metadata": {
  "kernelspec": {
   "display_name": "Python 3 (ipykernel)",
   "language": "python",
   "name": "python3"
  },
  "language_info": {
   "codemirror_mode": {
    "name": "ipython",
    "version": 3
   },
   "file_extension": ".py",
   "mimetype": "text/x-python",
   "name": "python",
   "nbconvert_exporter": "python",
   "pygments_lexer": "ipython3",
   "version": "3.12.4"
  }
 },
 "nbformat": 4,
 "nbformat_minor": 5
}
